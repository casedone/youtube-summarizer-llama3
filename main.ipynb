{
 "cells": [
  {
   "cell_type": "markdown",
   "metadata": {},
   "source": [
    "# YouTube Summarizer\n",
    "\n",
    "This notebook will show you an example of how to:\n",
    "- Use local LLM API via Ollama and again via LangChain\n",
    "- Use Llama 3-8B model\n",
    "- Build UI with Gradio\n",
    "- Use case = \"Summarize YouTube video using Llama 3\"\n",
    "\n",
    "Specifically, we will first retrieve a transcript of the target YouTube video (directed via a URL), then we will as Llama 3 to summarize it. We do it this way because Llama 3 only understand text at the moment."
   ]
  },
  {
   "cell_type": "code",
   "execution_count": 1,
   "metadata": {},
   "outputs": [],
   "source": [
    "import pytube\n",
    "import requests\n",
    "import re\n",
    "import gradio as gr\n",
    "from langchain.document_loaders import YoutubeLoader\n",
    "from langchain.chains.summarize import load_summarize_chain\n",
    "from langchain.text_splitter import RecursiveCharacterTextSplitter\n",
    "from langchain_community.llms import Ollama\n",
    "import tiktoken"
   ]
  },
  {
   "cell_type": "code",
   "execution_count": 2,
   "metadata": {},
   "outputs": [],
   "source": [
    "def get_youtube_description(url: str):\n",
    "    full_html = requests.get(url).text\n",
    "    y = re.search(r'shortDescription\":\"', full_html)\n",
    "    desc = \"\"\n",
    "    count = y.start() + 19  # adding the length of the 'shortDescription\":\"\n",
    "    while True:\n",
    "        # get the letter at current index in text\n",
    "        letter = full_html[count]\n",
    "        if letter == \"\\\"\":\n",
    "            if full_html[count - 1] == \"\\\\\":\n",
    "                # this is case where the letter before is a backslash, meaning it is not real end of description\n",
    "                desc += letter\n",
    "                count += 1\n",
    "            else:\n",
    "                break\n",
    "        else:\n",
    "            desc += letter\n",
    "            count += 1\n",
    "    return desc\n",
    "\n",
    "def get_youtube_info(url: str):\n",
    "    yt = pytube.YouTube(url)\n",
    "    title = yt.title\n",
    "    if title is None:\n",
    "        title = \"None\"\n",
    "    desc = get_youtube_description(url)\n",
    "    if desc is None:\n",
    "        desc = \"None\"\n",
    "    return title, desc\n",
    "\n",
    "def get_youtube_transcript_loader_langchain(url: str):\n",
    "    loader = YoutubeLoader.from_youtube_url(\n",
    "        url, add_video_info=True\n",
    "    )\n",
    "    return loader.load()\n",
    "\n",
    "def wrap_docs_to_string(docs):\n",
    "    return \" \".join([doc.page_content for doc in docs]).strip()\n",
    "\n",
    "def get_text_splitter(chunk_size: int, overlap_size: int):\n",
    "    return RecursiveCharacterTextSplitter.from_tiktoken_encoder(chunk_size=chunk_size, chunk_overlap=overlap_size)\n",
    "\n",
    "def get_youtube_transcription(url: str):\n",
    "    text = wrap_docs_to_string(get_youtube_transcript_loader_langchain(url))\n",
    "    enc = tiktoken.encoding_for_model(\"gpt-4\")\n",
    "    count = len(enc.encode(text))\n",
    "    return text, count\n",
    "\n",
    "def get_transcription_summary(url: str, temperature: float, chunk_size: int, overlap_size: int):\n",
    "    docs = get_youtube_transcript_loader_langchain(url)\n",
    "    text_splitter = get_text_splitter(chunk_size=chunk_size, overlap_size=overlap_size)\n",
    "    split_docs = text_splitter.split_documents(docs)\n",
    "    llm = Ollama(\n",
    "        model=\"llama3\",\n",
    "        base_url=\"http://localhost:11434\",\n",
    "        temperature=temperature,\n",
    "    )\n",
    "    chain = load_summarize_chain(llm, chain_type=\"map_reduce\")\n",
    "    output = chain.invoke(split_docs)\n",
    "    return output['output_text']"
   ]
  },
  {
   "cell_type": "code",
   "execution_count": 4,
   "metadata": {},
   "outputs": [
    {
     "name": "stdout",
     "output_type": "stream",
     "text": [
      "Closing server running on port: 7860\n",
      "Running on local URL:  http://127.0.0.1:7860\n",
      "\n",
      "To create a public link, set `share=True` in `launch()`.\n"
     ]
    },
    {
     "data": {
      "text/html": [
       "<div><iframe src=\"http://127.0.0.1:7860/\" width=\"100%\" height=\"500\" allow=\"autoplay; camera; microphone; clipboard-read; clipboard-write;\" frameborder=\"0\" allowfullscreen></iframe></div>"
      ],
      "text/plain": [
       "<IPython.core.display.HTML object>"
      ]
     },
     "metadata": {},
     "output_type": "display_data"
    },
    {
     "data": {
      "text/plain": []
     },
     "execution_count": 4,
     "metadata": {},
     "output_type": "execute_result"
    }
   ],
   "source": [
    "try:\n",
    "    demo.close()\n",
    "except:\n",
    "    pass\n",
    "\n",
    "\n",
    "with gr.Blocks() as demo:\n",
    "    gr.Markdown(\"\"\"# YouTube Summarizer with Llama 3\n",
    "                \"\"\")\n",
    "    with gr.Row(equal_height=True) as r0:\n",
    "        with gr.Column(scale=4) as r0c1:\n",
    "            url = gr.Textbox(label='YouTube URL', value=\"https://youtu.be/bvPDQ4-0LAQ\")\n",
    "        with gr.Column(scale=1) as r0c2:\n",
    "            bttn_info_get = gr.Button('Get Info', variant='primary')\n",
    "            bttn_clear = gr.ClearButton(interactive=True, variant='stop')\n",
    "            \n",
    "    with gr.Row(variant='panel') as r1:\n",
    "        with gr.Column(scale=2) as r1c1:\n",
    "            title = gr.Textbox(label='Title', lines=2, max_lines=10, show_copy_button=True)\n",
    "        with gr.Column(scale=3, ) as r1c2:\n",
    "            desc = gr.Textbox(label='Description', max_lines=10, autoscroll=False, show_copy_button=True)\n",
    "            bttn_info_get.click(fn=get_youtube_info,\n",
    "                                inputs=url,\n",
    "                                outputs=[title, desc],\n",
    "                                api_name=\"get_youtube_info\")\n",
    "\n",
    "    with gr.Row(equal_height=True) as r2:        \n",
    "        with gr.Column() as r2c1:\n",
    "            bttn_trns_get = gr.Button(\"Get Transcription\", variant='primary')\n",
    "            tkncount = gr.Number(label='Token Count (est)')\n",
    "        with gr.Column() as r2c3:\n",
    "            bttn_summ_get = gr.Button(\"Summarize\", variant='primary')\n",
    "            with gr.Row():\n",
    "                with gr.Column(scale=1, min_width=100):\n",
    "                    temperature = gr.Number(label='Temperature', minimum=0.0, step=0.01, precision=-2)\n",
    "                with gr.Column(scale=1, min_width=100):\n",
    "                    chunk = gr.Number(label='Chunk Size', minimum=200, step=100, value=4000)\n",
    "                with gr.Column(scale=1, min_width=100):\n",
    "                    overlap = gr.Number(label='Overlap Size', minimum=0, step=10, value=0)\n",
    "        \n",
    "    with gr.Row() as r3:\n",
    "        with gr.Column() as r3c1:\n",
    "            trns_raw = gr.Textbox(label='Transcript', show_copy_button=True)\n",
    "        with gr.Column() as r3c2:\n",
    "            trns_sum = gr.Textbox(label=\"Summary\", show_copy_button=True)\n",
    "    \n",
    "    bttn_trns_get.click(fn=get_youtube_transcription,\n",
    "                            inputs=url,\n",
    "                            outputs=[trns_raw, tkncount]\n",
    "                            )\n",
    "    bttn_summ_get.click(fn=get_transcription_summary,\n",
    "                                inputs=[url, temperature, chunk, overlap],\n",
    "                                outputs=trns_sum)\n",
    "    \n",
    "    bttn_clear.add([url, title, desc, trns_raw, trns_sum, tkncount])\n",
    "\n",
    "demo.launch(share=False)"
   ]
  },
  {
   "cell_type": "code",
   "execution_count": null,
   "metadata": {},
   "outputs": [],
   "source": []
  }
 ],
 "metadata": {
  "kernelspec": {
   "display_name": "openai",
   "language": "python",
   "name": "python3"
  },
  "language_info": {
   "codemirror_mode": {
    "name": "ipython",
    "version": 3
   },
   "file_extension": ".py",
   "mimetype": "text/x-python",
   "name": "python",
   "nbconvert_exporter": "python",
   "pygments_lexer": "ipython3",
   "version": "3.10.3"
  }
 },
 "nbformat": 4,
 "nbformat_minor": 2
}

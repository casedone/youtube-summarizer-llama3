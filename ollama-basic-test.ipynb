{
 "cells": [
  {
   "cell_type": "markdown",
   "metadata": {},
   "source": [
    "This notebook simply shows one quick and basic way to use Ollama in Python environment.\n",
    "\n",
    "Specifically, we will use `ollama` package.\n",
    "\n",
    "However, you can access Ollama via other popular tools like LangChain as well."
   ]
  },
  {
   "cell_type": "code",
   "execution_count": 1,
   "metadata": {},
   "outputs": [],
   "source": [
    "import ollama"
   ]
  },
  {
   "cell_type": "markdown",
   "metadata": {},
   "source": [
    "Make sure that Ollama is running first!\n",
    "\n",
    "This can be done with 'ollama serve' in CLI."
   ]
  },
  {
   "cell_type": "markdown",
   "metadata": {},
   "source": [
    "The following cell will use the model called 'llama3.2', which was previously created in Ollama according to my tutorial YouTube video.\n",
    "\n",
    "You can replace that with whatever model you would like to use instead."
   ]
  },
  {
   "cell_type": "code",
   "execution_count": 2,
   "metadata": {},
   "outputs": [
    {
     "name": "stdout",
     "output_type": "stream",
     "text": [
      "Pizza is a type of baked dish that originated in Italy, typically consisting of a flatbread crust topped with various ingredients such as:\n",
      "\n",
      "1. Tomato sauce\n",
      "2. Mozzarella cheese\n",
      "3. Toppings (e.g., pepperoni, sausage, mushrooms, onions, bell peppers, olives, etc.)\n",
      "\n",
      "The combination and arrangement of toppings can vary greatly depending on regional styles and personal preferences.\n",
      "\n",
      "A classic pizza is typically made with a thin crust, which can be either hand-tossed or machine-made. The dough is usually leavened with yeast to give it lightness and airiness.\n",
      "\n",
      "Some common characteristics of traditional pizzas include:\n",
      "\n",
      "1. Crust: Thin, crispy, and slightly charred\n",
      "2. Sauce: Made from crushed tomatoes, garlic, and olive oil\n",
      "3. Cheese: Melted mozzarella provides creaminess and flavor\n",
      "4. Toppings: Varying combinations of meats, vegetables, and herbs\n",
      "\n",
      "Pizzas can be baked in various ways, including:\n",
      "\n",
      "1. Wood-fired ovens (resulting in a crispy crust and smoky flavor)\n",
      "2. Brick ovens (producing a well-balanced crust with even cooking)\n",
      "3. Conventional home ovens (yielding a consistent result)\n",
      "\n",
      "Today, pizzas are enjoyed worldwide in countless variations, from classic Neapolitan to gourmet artisanal pies, and everything in between.\n",
      "\n",
      "So, what's your favorite pizza style?\n"
     ]
    }
   ],
   "source": [
    "import ollama\n",
    "response = ollama.chat(model='llama3.2', messages=[\n",
    "  {\n",
    "    'role': 'user',\n",
    "    'content': 'What is pizza?',\n",
    "  },\n",
    "])\n",
    "print(response['message']['content'])"
   ]
  }
 ],
 "metadata": {
  "kernelspec": {
   "display_name": "ytsum",
   "language": "python",
   "name": "python3"
  },
  "language_info": {
   "codemirror_mode": {
    "name": "ipython",
    "version": 3
   },
   "file_extension": ".py",
   "mimetype": "text/x-python",
   "name": "python",
   "nbconvert_exporter": "python",
   "pygments_lexer": "ipython3",
   "version": "3.12.7"
  }
 },
 "nbformat": 4,
 "nbformat_minor": 2
}

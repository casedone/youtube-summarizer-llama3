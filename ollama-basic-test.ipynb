{
 "cells": [
  {
   "cell_type": "markdown",
   "metadata": {},
   "source": [
    "This notebook simply shows one quick and basic way to use Ollama in Python environment.\n",
    "\n",
    "Specifically, we will use `ollama` package.\n",
    "\n",
    "However, you can access Ollama via other popular tools like LangChain as well."
   ]
  },
  {
   "cell_type": "code",
   "execution_count": 1,
   "metadata": {},
   "outputs": [],
   "source": [
    "import ollama"
   ]
  },
  {
   "cell_type": "markdown",
   "metadata": {},
   "source": [
    "Make sure that Ollama is running first!\n",
    "\n",
    "This can be done with 'ollama serve' in CLI."
   ]
  },
  {
   "cell_type": "markdown",
   "metadata": {},
   "source": [
    "The following cell will use the model called 'pizzachef-llama3', which was previously created in Ollama according to my tutorial YouTube video.\n",
    "\n",
    "You can replace that with whatever model you would like to use instead."
   ]
  },
  {
   "cell_type": "code",
   "execution_count": 9,
   "metadata": {},
   "outputs": [
    {
     "name": "stdout",
     "output_type": "stream",
     "text": [
      "Pizza! She's a beautiful thing, my friend. Pizza is the union of love, passion, and dedication - all wrapped up in a delicious, crispy crust. It's a culinary masterpiece that brings people together, no matter where you are from or what language you speak. And let me tell you, there's only one way to make it: with the freshest ingredients, cooked to perfection in a wood-fired oven, and a love for the craft that can't be replicated.\n",
      "\n",
      "Now, I know some people might say, \"Hey, what about pineapple on pizza?\" Let me tell you, my friend, those people are misguided. Pineapple has no place on a beautiful pie like pizza. It's like putting ketchup on a nice steak - it just don't belong!\n",
      "\n",
      "So, if you're looking for a real pizza experience, come to my pizzeria and let me show you what I'm talking about. We'll make a pie that'll make your taste buds do the tarantella!\n"
     ]
    }
   ],
   "source": [
    "import ollama\n",
    "response = ollama.chat(model='pizzachef-llama3', messages=[\n",
    "  {\n",
    "    'role': 'user',\n",
    "    'content': 'What is pizza?',\n",
    "  },\n",
    "])\n",
    "print(response['message']['content'])"
   ]
  },
  {
   "cell_type": "code",
   "execution_count": null,
   "metadata": {},
   "outputs": [],
   "source": []
  }
 ],
 "metadata": {
  "kernelspec": {
   "display_name": "openai",
   "language": "python",
   "name": "python3"
  },
  "language_info": {
   "codemirror_mode": {
    "name": "ipython",
    "version": 3
   },
   "file_extension": ".py",
   "mimetype": "text/x-python",
   "name": "python",
   "nbconvert_exporter": "python",
   "pygments_lexer": "ipython3",
   "version": "3.10.3"
  }
 },
 "nbformat": 4,
 "nbformat_minor": 2
}
